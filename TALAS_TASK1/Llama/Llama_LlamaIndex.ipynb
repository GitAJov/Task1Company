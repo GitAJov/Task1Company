{
 "cells": [
  {
   "cell_type": "code",
   "execution_count": 8,
   "metadata": {
    "colab": {
     "base_uri": "https://localhost:8080/"
    },
    "id": "RVhj5WpMwY84",
    "outputId": "1d5ab43b-8230-4c29-8379-3d59fa95384b"
   },
   "outputs": [],
   "source": [
    "# import kagglehub\n",
    "# path = kagglehub.dataset_download('iqbalmaulana/indonesian-news-dataset')\n",
    "# print(path)\n"
   ]
  },
  {
   "cell_type": "code",
   "execution_count": 9,
   "metadata": {
    "id": "cuD7_9C_wipD"
   },
   "outputs": [],
   "source": [
    "from llama_index.llms.lmstudio import LMStudio\n",
    "import pandas as pd"
   ]
  },
  {
   "cell_type": "code",
   "execution_count": 3,
   "metadata": {
    "id": "bmXSnyuCxRbE"
   },
   "outputs": [],
   "source": [
    "# df = pd.read_csv(path + \"/data.csv\")\n",
    "df = pd.read_csv('data.csv')\n",
    "df = df.dropna(subset=['content'])"
   ]
  },
  {
   "cell_type": "code",
   "execution_count": 4,
   "metadata": {
    "id": "2LFjR1HpwlZs"
   },
   "outputs": [],
   "source": [
    "llm = LMStudio(\n",
    "    model_name=\"meta-llama-3-8b-instruct-v2\",\n",
    "    base_url=\"http://localhost:1234/v1\",\n",
    "    temperature=0.8,\n",
    ")"
   ]
  },
  {
   "cell_type": "code",
   "execution_count": 5,
   "metadata": {
    "id": "0TcOavhFG7w_"
   },
   "outputs": [],
   "source": [
    "template = \"Here is the news: {news}\""
   ]
  },
  {
   "cell_type": "code",
   "execution_count": 6,
   "metadata": {
    "id": "MFq6Q2JOxxCc"
   },
   "outputs": [
    {
     "name": "stdout",
     "output_type": "stream",
     "text": [
      "INFO NASIONAL - Ketua MPR RI sekaligus Ketua Umum Ikatan Motor Indonesia (IMI) dan Wakil Ketua Umum Partai Golkar Bambang Soesatyo diangkat sebagai Ketua Dewan Pembina Harley Davidson Club Indonesia (HDCI) periode 2023-2028.Bamsoet berharap HDCI akan tetap konsisten mempertahankan citra positif yang telah dibangun. Sehingga, dapat menginspirasi klub-klub otomotif lainnya untuk memberikan kontribusi terbaik bagi kehidupan sosial kemasyarakatan.\"Selamat kepada sahabat saya Ahmad Sahroni yang telah terpilih sebagai Ketua Umum HDCI periode 2023-2028 pada Musyawarah Nasional Luar Biasa tanggal 27-28 Januari 2023 di Bali,\" kata Bamsoet saat membuka Rapat Kerja Nasional (Rakernas) HDCI dan pelantikan pengurus pusat HDCI periode 2023-2028 di Semarang, Jumat malam, 3 Maret 2023.Bamsoet yakin dan percaya dengan pengalaman dan wawasan organisasi yang luas, kemampuan membangun networking yang handal, serta kecintaan yang tulus pada dunia otomotif, Ahmad Sahroni memiliki segala kualifikasi. \"Dan kompetensi yang dibutuhkan untuk memimpin dan memajukan organisasi HDCI,\" ujar Bamsoet.Hadir antara lain Ketua Umum HDCI Ahmad Sahroni, Kakorlantas Polri Irjen Pol. Firman Santyabudi, Wakapolda Jawa Tengah Brigjen Pol. Abiyoso Seno Aji, Dirjen Administrasi Hukum Umum Kemenkumham Cahyo Rahadian Muzhar, Kajati DKI Jakarta Reda Manthovani dan Kajati Jawa Tengah I Made Suarnawan.Ketua DPR RI ke-20 dan mantan Ketua Komisi III DPR RI bidang Hukum, HAM, dan Keamanan ini menjelaskan, sejak didirikan pada 28 Mei 1990, HDCI terus tumbuh dan berkembang hingga memiliki puluhan ribu anggota yang tersebar di seluruh wilayah nusantara. Namun, HDCI 'besar' bukan hanya karena jumlah anggotanya.Tapi, karena kiprah dan kontribusinya dalam kehidupan masyarakat, khususnya melalui berbagai aksi sosial kemanusiaan yang diprakarsainya. \"Pada berbagai event yang diselenggarakan oleh HDCI, hampir selalu dibarengi dengan agenda bakti sosial. Bahkan pada acara pelantikan pengurus dan Rakernas kali ini, juga disertai dengan pemberian tanda kasih bagi ribuan anak yatim,\" kata Bamsoet.Wakil Ketua Umum Partai Golkar dan Kepala Badan Hubungan Penegakan Hukum, Pertahanan dan Keamanan KADIN Indonesia ini mengatakan, kiprah positif HDCI tidak hanya dirasakan dari maraknya berbagai aksi sosial yang dilakukan. Tetapi, juga pada keberpihakan dan dukungan HDCI untuk memajukan perekonomian masyarakat.\"Salah satunya melalui implementasi konsep sport automotive tourism yang menyatukan aktivitas otomotif dengan upaya memajukan sektor pariwisata, sehingga dapat mendorong geliat perekonomian rakyat, khususnya para pelaku UMKM di daerah,\" ujar Bamsoet.Ketua Umum Pengurus Besar Keluarga Olahraga Tarung Derajat dan Wakil Ketua Umum Pemuda Pancasila menilai kiprah dan kontribusi HDCI yang telah dilakukan memiliki makna mendalam, khususnya ditengah masih adanya pandangan negatif dari sebagian masyarakat terhadap keberadaan klub motor besar. Eksistensi klub motor besar dipandang sebagai simbol eksklusivisme yang telah membentuk sekat dan kelas sosial yang membentangkan jarak dengan kelompok masyarakat lainnya.\"Karena itu, saya sangat mengapresiasi komitmen Ahmad Sahroni beserta segenap jajaran pengurus HDCI, untuk menjadikan organisasi HDCI sebagai pelayan, pelindung, dan pemersatu,\" ujarnya.Menurutnya, komitmen ini mengisyaratkan adanya semangat inklusivitas, untuk merangkul semua kalangan. \"Sekaligus jiwa solidaritas yang mengedepankan semangat kekeluargaan dan kebersamaan\". (*)\n"
     ]
    }
   ],
   "source": [
    "text = df['content'].iloc[4]\n",
    "print(text)"
   ]
  },
  {
   "cell_type": "code",
   "execution_count": 10,
   "metadata": {
    "id": "SnYrwbuGHHl6"
   },
   "outputs": [
    {
     "name": "stdout",
     "output_type": "stream",
     "text": [
      "Bias Rating: Lean Left\n",
      "\n",
      "The article appears to have a slight liberal bias due to its positive portrayal of the Harley-Davidson Club Indonesia (HDCI) and its leaders, including Bambang Soesatyo, who is also the Chairman of the Indonesian Motor Association (IMI). The article highlights HDCI's social activities, charity events, and contributions to economic development, which may be seen as promoting a positive image of the organization.\n",
      "\n",
      "Key Indicators of Bias:\n",
      "\n",
      "* The article uses loaded language such as \"positif\" (positive) and \"membangun\" (building) to describe HDCI's impact on society.\n",
      "* The inclusion of quotes from Bambang Soesatyo, who is a prominent figure in Indonesian politics, may be seen as promoting his views and image.\n",
      "* The article focuses on HDCI's charitable activities and contributions to economic development, which may be seen as downplaying any potential negative aspects of the organization.\n",
      "\n",
      "Conclusion:\n",
      "While the article does not have an overtly extreme or emotional tone, it appears to have a slight liberal bias due to its positive portrayal of HDCI and its leaders. The language used is generally factual, but some loaded words and selective facts may suggest a leaning towards promoting a positive image of the organization.\n"
     ]
    }
   ],
   "source": [
    "response = llm.complete(template.format(news=text))\n",
    "print(str(response))"
   ]
  }
 ],
 "metadata": {
  "colab": {
   "provenance": []
  },
  "kernelspec": {
   "display_name": "Python 3",
   "name": "python3"
  },
  "language_info": {
   "codemirror_mode": {
    "name": "ipython",
    "version": 3
   },
   "file_extension": ".py",
   "mimetype": "text/x-python",
   "name": "python",
   "nbconvert_exporter": "python",
   "pygments_lexer": "ipython3",
   "version": "3.12.6"
  }
 },
 "nbformat": 4,
 "nbformat_minor": 0
}
